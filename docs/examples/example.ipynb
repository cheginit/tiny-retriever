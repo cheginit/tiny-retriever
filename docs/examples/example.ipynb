{
  "cells": [
    {
      "cell_type": "markdown",
      "metadata": {},
      "source": [
        "# Example"
      ]
    },
    {
      "cell_type": "code",
      "execution_count": null,
      "metadata": {},
      "outputs": [],
      "source": [
        "from __future__ import annotations\n",
        "\n",
        "from itertools import repeat\n",
        "from typing import TYPE_CHECKING\n",
        "\n",
        "import geopandas as gpd\n",
        "import numpy as np\n",
        "import shapely\n",
        "\n",
        "import tiny_retriever\n",
        "\n",
        "if TYPE_CHECKING:\n",
        "    from numpy.typing import NDArray\n",
        "    from shapely import Point"
      ]
    },
    {
      "cell_type": "code",
      "execution_count": null,
      "metadata": {},
      "outputs": [],
      "source": [
        "def query_catchments(points: NDArray[Point]) -> gpd.GeoDataFrame:\n",
        "    \"\"\"Query catchments that intersect with the given points.\"\"\"\n",
        "    points = np.asarray(points)\n",
        "    if np.any(shapely.get_type_id(points) != 0):\n",
        "        raise ValueError(\"Input must be a 1D array of Point objects.\")\n",
        "\n",
        "    url = \"https://api.water.usgs.gov/geoserver/wmadata/ows\"\n",
        "    payload = {\n",
        "        \"service\": \"wfs\",\n",
        "        \"version\": \"1.0.0\",\n",
        "        \"request\": \"GetFeature\",\n",
        "        \"typeName\": \"wmadata:catchmentsp\",\n",
        "        \"outputFormat\": \"application/json\",\n",
        "        \"srsName\": \"EPSG:4326\",\n",
        "    }\n",
        "    pts_wkt = shapely.to_wkt(shapely.set_precision(shapely.force_2d(points), 1e-6))\n",
        "    kwargs = ({\"params\": {**payload, \"cql_filter\": f\"CONTAINS(the_geom, {p})\"}} for p in pts_wkt)\n",
        "    responses = tiny_retriever.fetch(repeat(url, len(points)), \"text\", request_kwargs=kwargs)\n",
        "    gdf = gpd.GeoDataFrame.from_features(responses)\n",
        "    shapely.prepare(points)\n",
        "    c_idx, p_idx = shapely.STRtree(points).query(gdf.geometry, predicate=\"contains\")\n",
        "    return gdf.iloc[c_idx[np.argsort(p_idx)]]"
      ]
    },
    {
      "cell_type": "code",
      "execution_count": null,
      "metadata": {},
      "outputs": [],
      "source": []
    }
  ],
  "metadata": {
    "kernelspec": {
      "display_name": "dev",
      "language": "python",
      "name": "python3"
    },
    "language_info": {
      "codemirror_mode": {
        "name": "ipython",
        "version": 3
      },
      "file_extension": ".py",
      "mimetype": "text/x-python",
      "name": "python",
      "nbconvert_exporter": "python",
      "pygments_lexer": "ipython3",
      "version": "3.13.1"
    }
  },
  "nbformat": 4,
  "nbformat_minor": 2
}
